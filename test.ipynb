{
 "cells": [
  {
   "cell_type": "code",
   "execution_count": 1,
   "metadata": {},
   "outputs": [
    {
     "name": "stdout",
     "output_type": "stream",
     "text": [
      "F-valor: 2.0\n",
      "P-valor: 0.177978515625\n",
      "No rechazamos la hipótesis nula. Las medias de los grupos pueden ser iguales.\n"
     ]
    }
   ],
   "source": [
    "import numpy as np\n",
    "from scipy import stats\n",
    "\n",
    "# Ejemplo de datos\n",
    "grupo1 = np.array([1, 2, 3, 4, 5])\n",
    "grupo2 = np.array([2, 3, 4, 5, 6])\n",
    "grupo3 = np.array([3, 4, 5, 6, 7])\n",
    "\n",
    "# Realiza la prueba de ANOVA\n",
    "f_valor, p_valor = stats.f_oneway(grupo1, grupo2, grupo3)\n",
    "\n",
    "print(\"F-valor:\", f_valor)\n",
    "print(\"P-valor:\", p_valor)\n",
    "\n",
    "# Interpreta los resultados\n",
    "if p_valor < 0.05:\n",
    "    print(\"Rechazamos la hipótesis nula. Las medias de los grupos no son iguales.\")\n",
    "else:\n",
    "    print(\"No rechazamos la hipótesis nula. Las medias de los grupos pueden ser iguales.\")"
   ]
  }
 ],
 "metadata": {
  "language_info": {
   "name": "python"
  }
 },
 "nbformat": 4,
 "nbformat_minor": 2
}
